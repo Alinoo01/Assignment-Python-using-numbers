{
  "nbformat": 4,
  "nbformat_minor": 0,
  "metadata": {
    "colab": {
      "name": "Assignmentttttt.ipynb",
      "provenance": [],
      "collapsed_sections": [],
      "toc_visible": true
    },
    "kernelspec": {
      "name": "python3",
      "display_name": "Python 3"
    },
    "language_info": {
      "name": "python"
    }
  },
  "cells": [
    {
      "cell_type": "code",
      "execution_count": 1,
      "metadata": {
        "colab": {
          "base_uri": "https://localhost:8080/"
        },
        "id": "mX0Y6IiTML1y",
        "outputId": "d258df49-573b-4712-8d38-579285ffd700"
      },
      "outputs": [
        {
          "output_type": "stream",
          "name": "stdout",
          "text": [
            "Enter amy integer: 3456\n",
            "The reverse number is : 6543\n"
          ]
        }
      ],
      "source": [
        "'''Q1) Write a program to reverse an integer in Python.'''\n",
        "num = int(input(\"Enter amy integer: \"))\n",
        "test_num = 0\n",
        " \n",
        "while(num>0):\n",
        "  remainder = num % 10\n",
        "  test_num = (test_num * 10) + remainder\n",
        "  num = num//10\n",
        "print(\"The reverse number is : {}\".format(test_num))"
      ]
    },
    {
      "cell_type": "code",
      "source": [
        "'''Q2) Write a program in Python to check whether an integer is\n",
        "Armstrong number or not.'''\n",
        "num = int(input(\"Enter a number: \"))\n",
        "sum = 0\n",
        "temp = num\n",
        "while temp > 0:\n",
        "   digit = temp % 10\n",
        "   sum += digit ** 3\n",
        "   temp //= 10\n",
        "\n",
        "# display the result\n",
        "if num == sum:\n",
        "   print(num,\"is an Armstrong number\")\n",
        "else:\n",
        "   print(num,\"is not an Armstrong number\")\n"
      ],
      "metadata": {
        "id": "29B3u1mOOKzT",
        "colab": {
          "base_uri": "https://localhost:8080/"
        },
        "outputId": "d89fde6e-62f4-4caa-e7a5-6f35c753357c"
      },
      "execution_count": 3,
      "outputs": [
        {
          "output_type": "stream",
          "name": "stdout",
          "text": [
            "Enter a number: 34\n",
            "34 is not an Armstrong number\n"
          ]
        }
      ]
    },
    {
      "cell_type": "code",
      "source": [
        "'''Q3) Write a program in Python to check given number is prime\n",
        "or not.'''\n",
        "num = int(input(\"Enter integer: \"))\n",
        "if num > 1:\n",
        "   for i in range(2,num):\n",
        "       if (num % i) == 0:\n",
        "           print(num,\"is not a prime number\")\n",
        "           break\n",
        "   else:\n",
        "       print(num,\"is a prime number\")\n",
        "else:\n",
        "   print(num,\"is not a prime number\")"
      ],
      "metadata": {
        "colab": {
          "base_uri": "https://localhost:8080/"
        },
        "id": "6-BDo_WpR-GI",
        "outputId": "6e72eca0-c903-48e7-db69-c80254466271"
      },
      "execution_count": null,
      "outputs": [
        {
          "output_type": "stream",
          "name": "stdout",
          "text": [
            "Enter integer: 4\n",
            "4 is not a prime number\n"
          ]
        }
      ]
    },
    {
      "cell_type": "code",
      "source": [
        "'''Q5) Write a program in Python to check whether a number is\n",
        "palindrome or not using iterative method.'''\n",
        "print(\"Enter the Number: \")\n",
        "num = int(input())\n",
        "rev = 0\n",
        "temp = num\n",
        "while temp>0:\n",
        "    rem = temp%10\n",
        "    rev = rem + (rev*10)\n",
        "    temp = int(temp/10)\n",
        "if rev==num:\n",
        "    print(\"\\nIt is a Palindrome Number\")\n",
        "else:\n",
        "    print(\"\\nIt is not a Palindrome Number\")"
      ],
      "metadata": {
        "colab": {
          "base_uri": "https://localhost:8080/"
        },
        "id": "4pzBKyw3XtlS",
        "outputId": "15c3c506-df5d-40a7-a78f-6246f7abaf30"
      },
      "execution_count": 33,
      "outputs": [
        {
          "output_type": "stream",
          "name": "stdout",
          "text": [
            "Enter the Number: \n",
            "234\n",
            "\n",
            "It is not a Palindrome Number\n"
          ]
        }
      ]
    },
    {
      "cell_type": "code",
      "source": [
        "'''Q4) Write a program in Python to print the Fibonacci series\n",
        "using iterative method.'''\n",
        "first,second=0,1\n",
        "n = int(input(\"please give a number for fibonacci series : \"))\n",
        "print(\"fibonacci series are : \")\n",
        "for i in range(0,n):\n",
        "    if i<=1:\n",
        "        result=i\n",
        "    else:\n",
        "      result = first + second;\n",
        "      first = second;\n",
        "      second = result;\n",
        "    print(result)\n",
        "    "
      ],
      "metadata": {
        "id": "O5sTN04_NJGd",
        "colab": {
          "base_uri": "https://localhost:8080/"
        },
        "outputId": "f72654bb-a065-4aa7-83fd-78c7be69ed12"
      },
      "execution_count": null,
      "outputs": [
        {
          "output_type": "stream",
          "name": "stdout",
          "text": [
            "please give a number for fibonacci series : 8\n",
            "fibonacci series are : \n",
            "0\n",
            "1\n",
            "1\n",
            "2\n",
            "3\n",
            "5\n",
            "8\n",
            "13\n"
          ]
        }
      ]
    },
    {
      "cell_type": "code",
      "source": [
        "'''Q9) Write a program in Python to swap two numbers without\n",
        "using third variable?'''\n",
        "x = int(input(\"Enter integer x: \"))\n",
        "y = int(input(\"Enter integer y: \"))\n",
        "x, y = y, x\n",
        "print(\"x =\", x)\n",
        "print(\"y =\", y)\n"
      ],
      "metadata": {
        "colab": {
          "base_uri": "https://localhost:8080/"
        },
        "id": "xOAvkmUgUIc9",
        "outputId": "8b4ab889-d686-4a1e-f9fa-1f4eb0dcc6b7"
      },
      "execution_count": null,
      "outputs": [
        {
          "output_type": "stream",
          "name": "stdout",
          "text": [
            "Enter integer x: 12\n",
            "Enter integer y: 45\n",
            "x = 45\n",
            "y = 12\n"
          ]
        }
      ]
    },
    {
      "cell_type": "code",
      "source": [
        "'''Q10) Write a program in Python to swap two numbers using\n",
        "third variable?'''\n",
        "a = int(input(\"please give first number a: \"))\n",
        "b = int(input(\"please give second number b: \"))\n",
        "c_thirdvar=a\n",
        "a=b\n",
        "b= c_thirdvar\n",
        "print(\"After swapping\")\n",
        "print(\"value of a is : \", a);\n",
        "print(\"value of b is : \", b);"
      ],
      "metadata": {
        "colab": {
          "base_uri": "https://localhost:8080/"
        },
        "id": "LSUNQEGlUwyF",
        "outputId": "05773706-3743-44ba-fdf2-376fde652504"
      },
      "execution_count": 34,
      "outputs": [
        {
          "output_type": "stream",
          "name": "stdout",
          "text": [
            "please give first number a: 23\n",
            "please give second number b: 45\n",
            "After swapping\n",
            "value of a is :  45\n",
            "value of b is :  23\n"
          ]
        }
      ]
    },
    {
      "cell_type": "code",
      "source": [
        "'''Q6) Write a program in Python to find greatest among three\n",
        "integers.'''\n",
        "num1 = int(input(\"Enter integer:\"))\n",
        "num2 = int(input(\"Enter integer:\"))\n",
        "num3 = int(input(\"Enter integer:\"))\n",
        "\n",
        "if (num1 >= num2) and (num1 >= num3):\n",
        "   largest = num1\n",
        "elif (num2 >= num1) and (num2 >= num3):\n",
        "   largest = num2\n",
        "else:\n",
        "   largest = num3\n",
        "print(\"The largest number is\", largest)\n"
      ],
      "metadata": {
        "colab": {
          "base_uri": "https://localhost:8080/"
        },
        "id": "t4pj5SknVgJr",
        "outputId": "ce544cf5-e64c-4544-c6cb-d2b09499d5ba"
      },
      "execution_count": null,
      "outputs": [
        {
          "output_type": "stream",
          "name": "stdout",
          "text": [
            "Enter integer:23\n",
            "Enter integer:67\n",
            "Enter integer:8\n",
            "The largest number is 67\n"
          ]
        }
      ]
    },
    {
      "cell_type": "code",
      "source": [
        "'''Q7) Write a program in Python to check if a number is binary?'''\n",
        "num = int(input(\"please give a number : \"))\n",
        "while(num>0):\n",
        "    j=num%10\n",
        "    if j!=0 and j!=1:\n",
        "        print(\"num is not binary\")\n",
        "        break\n",
        "    num=num//10\n",
        "    if num==0:\n",
        "        print(\"num is binary\") \n"
      ],
      "metadata": {
        "colab": {
          "base_uri": "https://localhost:8080/"
        },
        "id": "pwIpo7dQadth",
        "outputId": "cef02524-b914-4af3-ef24-b71c0690e25e"
      },
      "execution_count": 38,
      "outputs": [
        {
          "output_type": "stream",
          "name": "stdout",
          "text": [
            "please give a number : 1000001\n",
            "num is binary\n"
          ]
        }
      ]
    },
    {
      "cell_type": "code",
      "source": [
        "'''Q8) Write a program in Python to find sum of digits.'''\n",
        "n=int(input(\"Enter a number:\"))\n",
        "sum=0\n",
        "while(n>0):\n",
        "    dig=n%10\n",
        "    sum=sum+dig\n",
        "    n=n//10\n",
        "print(\"The total sum of digits is:\",sum)\n",
        "\n"
      ],
      "metadata": {
        "colab": {
          "base_uri": "https://localhost:8080/"
        },
        "id": "P5O3EzxyU1Wz",
        "outputId": "8e7d8de6-7314-4a9e-9cc1-ca0ffb7891d1"
      },
      "execution_count": 36,
      "outputs": [
        {
          "output_type": "stream",
          "name": "stdout",
          "text": [
            "Enter a number:467\n",
            "The total sum of digits is: 17\n"
          ]
        }
      ]
    },
    {
      "cell_type": "code",
      "source": [
        "'''Q11) Python Program to find the Average of numbers.'''\n",
        "num1 = 10\n",
        "num2 = 20\n",
        "\n",
        "avg = (num1 + num2) / 2\n",
        "print('The average of numbers = %0.2f' %avg)"
      ],
      "metadata": {
        "colab": {
          "base_uri": "https://localhost:8080/"
        },
        "id": "VhisjDl9bFpy",
        "outputId": "933e3064-78c2-4ab9-b171-8fcd2c36a6bc"
      },
      "execution_count": 40,
      "outputs": [
        {
          "output_type": "stream",
          "name": "stdout",
          "text": [
            "The average of numbers = 15.00\n"
          ]
        }
      ]
    },
    {
      "cell_type": "code",
      "source": [
        "'''Q12) Python Program to calculate factorial using iterative\n",
        "method.'''\n",
        "num = 3\n",
        "factorial = 1\n",
        "if num < 0:\n",
        "   print(\"Sorry, factorial does not exist for negative numbers\")\n",
        "elif num == 0:\n",
        "   print(\"The factorial of 0 is 1\")\n",
        "else:\n",
        "   for i in range(1,num + 1):\n",
        "       factorial = factorial*i\n",
        "   print(\"The factorial of\",num,\"is\",factorial)"
      ],
      "metadata": {
        "colab": {
          "base_uri": "https://localhost:8080/"
        },
        "id": "TRfEKaXVbGEb",
        "outputId": "af5dbc40-a73f-424f-ed1c-3a25fd100808"
      },
      "execution_count": 42,
      "outputs": [
        {
          "output_type": "stream",
          "name": "stdout",
          "text": [
            "The factorial of 3 is 6\n"
          ]
        }
      ]
    },
    {
      "cell_type": "code",
      "source": [
        "'''Q13) Python Program to calculate factorial.'''\n",
        "num=int(input( \"Enter any integer: \"))\n",
        "factorial = 1\n",
        "for i in range(1,num + 1):\n",
        "  factorial = factorial*i\n",
        "print(\"Factorial of\",num,\"is\",factorial)"
      ],
      "metadata": {
        "colab": {
          "base_uri": "https://localhost:8080/"
        },
        "id": "nLonSx0ON88k",
        "outputId": "4c3350bc-faf9-473b-eb56-d0f7d4cff2e4"
      },
      "execution_count": 8,
      "outputs": [
        {
          "output_type": "stream",
          "name": "stdout",
          "text": [
            "Enter any integer: 6\n",
            "Factorial of 6 is 720\n"
          ]
        }
      ]
    },
    {
      "cell_type": "code",
      "source": [
        "'''Q14) Python Program to check a given number is even or odd.'''\n",
        "ip = int(input( \"Enter any number: \"))\n",
        "if ip %2 == 0:\n",
        "  print(\"even\")\n",
        "else:\n",
        "  print(\"odd\")"
      ],
      "metadata": {
        "colab": {
          "base_uri": "https://localhost:8080/"
        },
        "id": "OLK0r7KXa0WV",
        "outputId": "033170d4-3b62-4c7b-e7c3-69570a6bfe7b"
      },
      "execution_count": 39,
      "outputs": [
        {
          "output_type": "stream",
          "name": "stdout",
          "text": [
            "Enter any number: 24\n",
            "even\n"
          ]
        }
      ]
    },
    {
      "cell_type": "code",
      "source": [
        "'''Q15) Python program to print first n Prime Number.'''\n",
        "num = int(input(\"Enter a number :  \"))  \n",
        "if num%2 == 0:\n",
        "   print(num,\"is even number\")\n",
        "else:\n",
        "   print(num,\"is odd number\")"
      ],
      "metadata": {
        "colab": {
          "base_uri": "https://localhost:8080/"
        },
        "id": "gzT_sot2QmGB",
        "outputId": "6121d5c7-b87a-4567-b46f-cdfa537f975a"
      },
      "execution_count": 11,
      "outputs": [
        {
          "output_type": "stream",
          "name": "stdout",
          "text": [
            "Enter a number :  21\n",
            "21 is odd number\n"
          ]
        }
      ]
    },
    {
      "cell_type": "code",
      "source": [
        "'''Q16) Python Program to print Prime Number in a given range.'''\n",
        "first_no = int(input(\"Enter any number : \"))\n",
        "last_no= int(input(\"Enter any number : \"))\n",
        "for n in range(first_no,last_no + 1):\n",
        "   if n > 1:\n",
        "       for i in range(2,n):\n",
        "           if (n % i) == 0:\n",
        "               break\n",
        "       else:\n",
        "           print(n)"
      ],
      "metadata": {
        "colab": {
          "base_uri": "https://localhost:8080/"
        },
        "id": "-0P-ffaqRZ24",
        "outputId": "ebd2c7e3-e9a1-4c05-c562-1de8685811f6"
      },
      "execution_count": 14,
      "outputs": [
        {
          "output_type": "stream",
          "name": "stdout",
          "text": [
            "Enter any number : 34\n",
            "Enter any number : 45\n",
            "37\n",
            "41\n",
            "43\n"
          ]
        }
      ]
    },
    {
      "cell_type": "code",
      "source": [
        "'''Q17) Python Program to find Smallest number among three.'''\n",
        "num1=int(input(\"Enter the first number: \")) \n",
        "num2=int(input(\"Enter the second number: \"))\n",
        "num3=int(input(\"Enter the third number: \"))\n",
        "if(num1<=num2 and num1<=num3):   \n",
        "  print(num1,\" is the smallest\")\n",
        "elif(num2<=num1 and num2<=num3):\n",
        "  print(num2,\" is the smallest\")\n",
        "else:\n",
        "    print(num3,\" is the smallest\")"
      ],
      "metadata": {
        "colab": {
          "base_uri": "https://localhost:8080/"
        },
        "id": "8BQuzeqGSC7Y",
        "outputId": "d0e2dd5e-bb2b-4729-e1e3-395abb51c155"
      },
      "execution_count": 15,
      "outputs": [
        {
          "output_type": "stream",
          "name": "stdout",
          "text": [
            "Enter the first number: 23\n",
            "Enter the second number: 12\n",
            "Enter the third number: 35\n",
            "12  is the smallest\n"
          ]
        }
      ]
    },
    {
      "cell_type": "code",
      "source": [
        "'''Q18) Python program to calculate the power using the POW\n",
        "method.'''\n",
        "import math\n",
        "inp = int(input(\"Enter any no: \"))\n",
        "power = int(input(\"Enter power\"))\n",
        "calc = math.pow(inp,power)\n",
        "print(calc)"
      ],
      "metadata": {
        "colab": {
          "base_uri": "https://localhost:8080/"
        },
        "id": "uCMGO3PISb7M",
        "outputId": "1d288878-39c2-4274-983c-5e7a6d1ffa8a"
      },
      "execution_count": 17,
      "outputs": [
        {
          "output_type": "stream",
          "name": "stdout",
          "text": [
            "Enter any no: 2\n",
            "Enter power3\n",
            "8.0\n"
          ]
        }
      ]
    },
    {
      "cell_type": "code",
      "source": [
        "'''Q19) Python Program to calculate the square of a given number.'''\n",
        "import math\n",
        "inp = int(input(\"Enter any number: \"))\n",
        "sq = math.pow(inp , 2)\n",
        "print(\"Square of\" , inp , \"=\" , sq)\n",
        "\n"
      ],
      "metadata": {
        "colab": {
          "base_uri": "https://localhost:8080/"
        },
        "id": "IMoVBAfnTIqO",
        "outputId": "f6a22bee-3687-4b13-a1ef-1633ef764ee0"
      },
      "execution_count": 18,
      "outputs": [
        {
          "output_type": "stream",
          "name": "stdout",
          "text": [
            "Enter any number: 3\n",
            "Square of 3 = 9.0\n"
          ]
        }
      ]
    },
    {
      "cell_type": "code",
      "source": [
        "'''Q20) Python Program to calculate the cube of a given number'''\n",
        "import math\n",
        "inp = int(input(\"Enter any number: \"))\n",
        "no_cube = math.pow(inp , 3)\n",
        "print(\"Cube of\" , inp , \"=\" , no_cube)\n"
      ],
      "metadata": {
        "colab": {
          "base_uri": "https://localhost:8080/"
        },
        "id": "riya-YfLTmgG",
        "outputId": "7af98e67-a5d1-4ef3-e375-39841f8023ae"
      },
      "execution_count": 19,
      "outputs": [
        {
          "output_type": "stream",
          "name": "stdout",
          "text": [
            "Enter any number: 3\n",
            "Cube of 3 = 27.0\n"
          ]
        }
      ]
    },
    {
      "cell_type": "code",
      "source": [
        "'''Q21) Python Program to calculate the square root of a given\n",
        "number.'''\n",
        "import math\n",
        "inp = int(input(\"Enter any number: \"))\n",
        "no_sq = math.sqrt(inp)\n",
        "print(\"Square of\" , inp , \"=\" , no_sq)"
      ],
      "metadata": {
        "colab": {
          "base_uri": "https://localhost:8080/"
        },
        "id": "xmGI6P4AT0Hj",
        "outputId": "1acd6392-b66e-4832-bfe3-c4bd47acbd86"
      },
      "execution_count": 22,
      "outputs": [
        {
          "output_type": "stream",
          "name": "stdout",
          "text": [
            "Enter any number: 4\n",
            "Square of 4 = 2.0\n"
          ]
        }
      ]
    },
    {
      "cell_type": "code",
      "source": [
        "'''Q22) Python Program to Convert Decimal Number into Binary.'''\n",
        "number = int(input(\"Enter any decimal number: \"))\n",
        "print(\"Equivalent Binary Number: \", bin(number))"
      ],
      "metadata": {
        "colab": {
          "base_uri": "https://localhost:8080/"
        },
        "id": "S5-yRh6vUOaJ",
        "outputId": "5acb16ea-7bac-43c0-b7a8-5564d55ba44b"
      },
      "execution_count": 43,
      "outputs": [
        {
          "output_type": "stream",
          "name": "stdout",
          "text": [
            "Enter any decimal number: 77\n",
            "Equivalent Binary Number:  0b1001101\n"
          ]
        }
      ]
    },
    {
      "cell_type": "code",
      "source": [
        "'''Q23) Python Program to convert Decimal number to Octal\n",
        "number.'''\n",
        "def DecimalOctal(num):\n",
        "    octal, i = 0, 1\n",
        "\n",
        "    while (num != 0):\n",
        "        rem = num % 8  \n",
        "        octal += rem * i\n",
        "        i = i*10\n",
        "        num //= 8\n",
        "     \n",
        "    print(octal)\n",
        "num = int(input('Enter a decimal number: '))\n",
        "print('Octal value: ', end='')\n",
        "DecimalOctal(num)\n"
      ],
      "metadata": {
        "colab": {
          "base_uri": "https://localhost:8080/"
        },
        "id": "3IZ4P8upVZ1Y",
        "outputId": "ffb5e09d-df66-45c2-ba56-c1be8a0796f3"
      },
      "execution_count": 44,
      "outputs": [
        {
          "output_type": "stream",
          "name": "stdout",
          "text": [
            "Enter a decimal number: 345\n",
            "Octal value: 531\n"
          ]
        }
      ]
    },
    {
      "cell_type": "code",
      "source": [
        "'''Q24) Python Program to check the given year is a leap year or\n",
        "not.'''\n",
        "print(\"Enter the Year: \")\n",
        "ip = int(input())\n",
        "\n",
        "if ip %4==0 and y%100!=0:\n",
        "    print(\"\\nIt is a Leap Year\")\n",
        "elif ip %400==0:\n",
        "    print(\"\\nIt is a Leap Year\")\n",
        "else:\n",
        "    print(\"\\nIt is not a Leap Year\")"
      ],
      "metadata": {
        "colab": {
          "base_uri": "https://localhost:8080/"
        },
        "id": "M2h7APaqVaK4",
        "outputId": "406b26db-1117-4736-b18c-2281edba9732"
      },
      "execution_count": 26,
      "outputs": [
        {
          "output_type": "stream",
          "name": "stdout",
          "text": [
            "Enter the Year: \n",
            "2013\n",
            "\n",
            "It is not a Leap Year\n"
          ]
        }
      ]
    },
    {
      "cell_type": "code",
      "source": [
        "'''Q25) Python Program to convert Celsius to Fahrenheit.'''\n",
        "celsius = float(input(\"Enter temperature in celsius: \"))\n",
        "fahrenheit = (celsius * 9/5) + 32\n",
        "print('%.2f Celsius is: %0.2f Fahrenheit' %(celsius, fahrenheit))\n"
      ],
      "metadata": {
        "colab": {
          "base_uri": "https://localhost:8080/"
        },
        "id": "3NJRy9WKVvFS",
        "outputId": "b5e6a6fa-5666-470e-e2a4-5891d6b06c64"
      },
      "execution_count": 32,
      "outputs": [
        {
          "output_type": "stream",
          "name": "stdout",
          "text": [
            "Enter temperature in celsius: 34\n",
            "34.00 Celsius is: 93.20 Fahrenheit\n"
          ]
        }
      ]
    },
    {
      "cell_type": "code",
      "source": [
        "'''Q26) Python Program to convert Fahrenheit to Celsius.'''\n",
        "fahrenheit = float(input(\"Enter temperature in fahrenheit: \"))\n",
        "celsius = (fahrenheit - 32) * 5/9\n",
        "print('%.2f Fahrenheit is: %0.2f Celsius' %(fahrenheit, celsius))"
      ],
      "metadata": {
        "colab": {
          "base_uri": "https://localhost:8080/"
        },
        "id": "h-hTDZx3V-pb",
        "outputId": "50be2147-c33a-4462-ee6e-df22b4c2ad1b"
      },
      "execution_count": 31,
      "outputs": [
        {
          "output_type": "stream",
          "name": "stdout",
          "text": [
            "Enter temperature in fahrenheit: 102\n",
            "102.00 Fahrenheit is: 38.89 Celsius\n"
          ]
        }
      ]
    }
  ]
}